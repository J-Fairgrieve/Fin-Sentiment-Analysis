{
 "cells": [
  {
   "cell_type": "markdown",
   "id": "6c6f232b",
   "metadata": {},
   "source": [
    "# 2. Multinomial Naive Bayes Model"
   ]
  },
  {
   "cell_type": "code",
   "execution_count": 1,
   "id": "200c9287",
   "metadata": {},
   "outputs": [],
   "source": [
    "# Import the dependencies used for the project\n",
    "import pandas as pd\n",
    "\n",
    "# ML libraries\n",
    "from sklearn.feature_extraction.text import TfidfVectorizer\n",
    "from sklearn.model_selection import train_test_split\n",
    "from sklearn.naive_bayes import MultinomialNB\n",
    "from sklearn.metrics import accuracy_score,classification_report\n",
    "import joblib\n",
    "\n",
    "# nltk for text cleaning\n",
    "import nltk\n",
    "from nltk.corpus import stopwords\n",
    "from nltk.stem import WordNetLemmatizer\n",
    "import re"
   ]
  },
  {
   "cell_type": "code",
   "execution_count": 2,
   "id": "9b6f2e76",
   "metadata": {},
   "outputs": [
    {
     "data": {
      "text/html": [
       "<div>\n",
       "<style scoped>\n",
       "    .dataframe tbody tr th:only-of-type {\n",
       "        vertical-align: middle;\n",
       "    }\n",
       "\n",
       "    .dataframe tbody tr th {\n",
       "        vertical-align: top;\n",
       "    }\n",
       "\n",
       "    .dataframe thead th {\n",
       "        text-align: right;\n",
       "    }\n",
       "</style>\n",
       "<table border=\"1\" class=\"dataframe\">\n",
       "  <thead>\n",
       "    <tr style=\"text-align: right;\">\n",
       "      <th></th>\n",
       "      <th>Sentiment</th>\n",
       "      <th>Text</th>\n",
       "      <th>Word Count</th>\n",
       "    </tr>\n",
       "  </thead>\n",
       "  <tbody>\n",
       "    <tr>\n",
       "      <th>0</th>\n",
       "      <td>neutral</td>\n",
       "      <td>seller eos innovationsmanagement group private...</td>\n",
       "      <td>12</td>\n",
       "    </tr>\n",
       "    <tr>\n",
       "      <th>1</th>\n",
       "      <td>neutral</td>\n",
       "      <td>believe however hkscan atrium start use import...</td>\n",
       "      <td>24</td>\n",
       "    </tr>\n",
       "    <tr>\n",
       "      <th>2</th>\n",
       "      <td>neutral</td>\n",
       "      <td>gross area eight house</td>\n",
       "      <td>11</td>\n",
       "    </tr>\n",
       "    <tr>\n",
       "      <th>3</th>\n",
       "      <td>neutral</td>\n",
       "      <td>utility also provide service related electrici...</td>\n",
       "      <td>21</td>\n",
       "    </tr>\n",
       "    <tr>\n",
       "      <th>4</th>\n",
       "      <td>neutral</td>\n",
       "      <td>amount included pensionable salary</td>\n",
       "      <td>11</td>\n",
       "    </tr>\n",
       "    <tr>\n",
       "      <th>...</th>\n",
       "      <td>...</td>\n",
       "      <td>...</td>\n",
       "      <td>...</td>\n",
       "    </tr>\n",
       "    <tr>\n",
       "      <th>4840</th>\n",
       "      <td>positive</td>\n",
       "      <td>proving good cellphone design truly work art w...</td>\n",
       "      <td>29</td>\n",
       "    </tr>\n",
       "    <tr>\n",
       "      <th>4841</th>\n",
       "      <td>positive</td>\n",
       "      <td>strong company brand esl shipping leipurin tel...</td>\n",
       "      <td>24</td>\n",
       "    </tr>\n",
       "    <tr>\n",
       "      <th>4842</th>\n",
       "      <td>neutral</td>\n",
       "      <td>swedish engineering consultant firm etteplan e...</td>\n",
       "      <td>23</td>\n",
       "    </tr>\n",
       "    <tr>\n",
       "      <th>4843</th>\n",
       "      <td>positive</td>\n",
       "      <td>commission income rose eur mn eur mn</td>\n",
       "      <td>17</td>\n",
       "    </tr>\n",
       "    <tr>\n",
       "      <th>4844</th>\n",
       "      <td>positive</td>\n",
       "      <td>term profitability earnings best year history ...</td>\n",
       "      <td>23</td>\n",
       "    </tr>\n",
       "  </tbody>\n",
       "</table>\n",
       "<p>4845 rows × 3 columns</p>\n",
       "</div>"
      ],
      "text/plain": [
       "     Sentiment                                               Text  Word Count\n",
       "0      neutral  seller eos innovationsmanagement group private...          12\n",
       "1      neutral  believe however hkscan atrium start use import...          24\n",
       "2      neutral                             gross area eight house          11\n",
       "3      neutral  utility also provide service related electrici...          21\n",
       "4      neutral                 amount included pensionable salary          11\n",
       "...        ...                                                ...         ...\n",
       "4840  positive  proving good cellphone design truly work art w...          29\n",
       "4841  positive  strong company brand esl shipping leipurin tel...          24\n",
       "4842   neutral  swedish engineering consultant firm etteplan e...          23\n",
       "4843  positive               commission income rose eur mn eur mn          17\n",
       "4844  positive  term profitability earnings best year history ...          23\n",
       "\n",
       "[4845 rows x 3 columns]"
      ]
     },
     "execution_count": 2,
     "metadata": {},
     "output_type": "execute_result"
    }
   ],
   "source": [
    "# Load the cleaned dataset from section 1\n",
    "data = pd.read_csv(\"Data/cleaned-news.csv\")\n",
    "data"
   ]
  },
  {
   "cell_type": "markdown",
   "id": "3413ae8b",
   "metadata": {},
   "source": [
    "### 2.1 Converting Sentiment to Numerical Values\n",
    " - -1 = Negative\n",
    " - 0 = Neutral\n",
    " - 1 = Positive"
   ]
  },
  {
   "cell_type": "code",
   "execution_count": 3,
   "id": "2eb4abce",
   "metadata": {},
   "outputs": [],
   "source": [
    "# Assign numerical value depending on Sentiment text\n",
    "sentiment_num = []\n",
    "\n",
    "for i in range(len(data)):\n",
    "    if data[\"Sentiment\"][i] == \"neutral\":\n",
    "        sentiment_num.append(0)\n",
    "    elif data[\"Sentiment\"][i] == \"positive\":\n",
    "        sentiment_num.append(1)\n",
    "    else:\n",
    "        sentiment_num.append(-1)"
   ]
  },
  {
   "cell_type": "code",
   "execution_count": 4,
   "id": "f3db2188",
   "metadata": {},
   "outputs": [
    {
     "data": {
      "text/html": [
       "<div>\n",
       "<style scoped>\n",
       "    .dataframe tbody tr th:only-of-type {\n",
       "        vertical-align: middle;\n",
       "    }\n",
       "\n",
       "    .dataframe tbody tr th {\n",
       "        vertical-align: top;\n",
       "    }\n",
       "\n",
       "    .dataframe thead th {\n",
       "        text-align: right;\n",
       "    }\n",
       "</style>\n",
       "<table border=\"1\" class=\"dataframe\">\n",
       "  <thead>\n",
       "    <tr style=\"text-align: right;\">\n",
       "      <th></th>\n",
       "      <th>Sentiment</th>\n",
       "      <th>Text</th>\n",
       "    </tr>\n",
       "  </thead>\n",
       "  <tbody>\n",
       "    <tr>\n",
       "      <th>0</th>\n",
       "      <td>0</td>\n",
       "      <td>seller eos innovationsmanagement group private...</td>\n",
       "    </tr>\n",
       "    <tr>\n",
       "      <th>1</th>\n",
       "      <td>0</td>\n",
       "      <td>believe however hkscan atrium start use import...</td>\n",
       "    </tr>\n",
       "    <tr>\n",
       "      <th>2</th>\n",
       "      <td>0</td>\n",
       "      <td>gross area eight house</td>\n",
       "    </tr>\n",
       "    <tr>\n",
       "      <th>3</th>\n",
       "      <td>0</td>\n",
       "      <td>utility also provide service related electrici...</td>\n",
       "    </tr>\n",
       "    <tr>\n",
       "      <th>4</th>\n",
       "      <td>0</td>\n",
       "      <td>amount included pensionable salary</td>\n",
       "    </tr>\n",
       "    <tr>\n",
       "      <th>...</th>\n",
       "      <td>...</td>\n",
       "      <td>...</td>\n",
       "    </tr>\n",
       "    <tr>\n",
       "      <th>4840</th>\n",
       "      <td>1</td>\n",
       "      <td>proving good cellphone design truly work art w...</td>\n",
       "    </tr>\n",
       "    <tr>\n",
       "      <th>4841</th>\n",
       "      <td>1</td>\n",
       "      <td>strong company brand esl shipping leipurin tel...</td>\n",
       "    </tr>\n",
       "    <tr>\n",
       "      <th>4842</th>\n",
       "      <td>0</td>\n",
       "      <td>swedish engineering consultant firm etteplan e...</td>\n",
       "    </tr>\n",
       "    <tr>\n",
       "      <th>4843</th>\n",
       "      <td>1</td>\n",
       "      <td>commission income rose eur mn eur mn</td>\n",
       "    </tr>\n",
       "    <tr>\n",
       "      <th>4844</th>\n",
       "      <td>1</td>\n",
       "      <td>term profitability earnings best year history ...</td>\n",
       "    </tr>\n",
       "  </tbody>\n",
       "</table>\n",
       "<p>4845 rows × 2 columns</p>\n",
       "</div>"
      ],
      "text/plain": [
       "      Sentiment                                               Text\n",
       "0             0  seller eos innovationsmanagement group private...\n",
       "1             0  believe however hkscan atrium start use import...\n",
       "2             0                             gross area eight house\n",
       "3             0  utility also provide service related electrici...\n",
       "4             0                 amount included pensionable salary\n",
       "...         ...                                                ...\n",
       "4840          1  proving good cellphone design truly work art w...\n",
       "4841          1  strong company brand esl shipping leipurin tel...\n",
       "4842          0  swedish engineering consultant firm etteplan e...\n",
       "4843          1               commission income rose eur mn eur mn\n",
       "4844          1  term profitability earnings best year history ...\n",
       "\n",
       "[4845 rows x 2 columns]"
      ]
     },
     "execution_count": 4,
     "metadata": {},
     "output_type": "execute_result"
    }
   ],
   "source": [
    "# Create a new DataFrame for the model\n",
    "ModelData = pd.DataFrame()\n",
    "ModelData[\"Sentiment\"] = sentiment_num\n",
    "ModelData[\"Text\"] = data[\"Text\"]\n",
    "ModelData"
   ]
  },
  {
   "cell_type": "markdown",
   "id": "663b9162",
   "metadata": {},
   "source": [
    "### 2.2 Preparing the Data for Modelling"
   ]
  },
  {
   "cell_type": "code",
   "execution_count": 5,
   "id": "59254fbc",
   "metadata": {},
   "outputs": [],
   "source": [
    "# Collect a sample of the data for X & y\n",
    "X = ModelData.iloc[:3500,1]\n",
    "y = ModelData.iloc[:3500,0]\n",
    "\n",
    "# Run vectorizer so we can convert the text into numerical features\n",
    "vectorizer = TfidfVectorizer(max_features = 50000 , lowercase=False , ngram_range=(1,2))"
   ]
  },
  {
   "cell_type": "code",
   "execution_count": 6,
   "id": "a268d0dd",
   "metadata": {},
   "outputs": [
    {
     "data": {
      "text/plain": [
       "0    seller eos innovationsmanagement group private...\n",
       "1    believe however hkscan atrium start use import...\n",
       "2                               gross area eight house\n",
       "3    utility also provide service related electrici...\n",
       "4                   amount included pensionable salary\n",
       "Name: Text, dtype: object"
      ]
     },
     "execution_count": 6,
     "metadata": {},
     "output_type": "execute_result"
    }
   ],
   "source": [
    "# View X data (articles)\n",
    "X.head()"
   ]
  },
  {
   "cell_type": "code",
   "execution_count": 7,
   "id": "8a2b1be3",
   "metadata": {},
   "outputs": [
    {
     "data": {
      "text/plain": [
       "0    0\n",
       "1    0\n",
       "2    0\n",
       "3    0\n",
       "4    0\n",
       "Name: Sentiment, dtype: int64"
      ]
     },
     "execution_count": 7,
     "metadata": {},
     "output_type": "execute_result"
    }
   ],
   "source": [
    "# View y data (real/fake news flag) 0 = True, 1 = False\n",
    "y.head()"
   ]
  },
  {
   "cell_type": "code",
   "execution_count": 8,
   "id": "7747a6ab",
   "metadata": {},
   "outputs": [
    {
     "data": {
      "text/plain": [
       "((2800,), (700,))"
      ]
     },
     "execution_count": 8,
     "metadata": {},
     "output_type": "execute_result"
    }
   ],
   "source": [
    "# Get the variables for train, test & split\n",
    "train_data , test_data , train_label , test_label = train_test_split(X , y , test_size = 0.2 ,random_state = 0)\n",
    "train_data.shape , test_data.shape"
   ]
  },
  {
   "cell_type": "code",
   "execution_count": 9,
   "id": "38c870db",
   "metadata": {},
   "outputs": [],
   "source": [
    "# Transform the training data\n",
    "vector_train = vectorizer.fit_transform(train_data)\n",
    "vector_train = vector_train.toarray()\n",
    "\n",
    "# Transform the test data\n",
    "vector_test = vectorizer.transform(test_data).toarray()"
   ]
  },
  {
   "cell_type": "code",
   "execution_count": 10,
   "id": "60906283",
   "metadata": {},
   "outputs": [],
   "source": [
    "# Create the dataframes for the test & train data\n",
    "training_data = pd.DataFrame(vector_train , columns=vectorizer.get_feature_names_out())\n",
    "testing_data = pd.DataFrame(vector_test , columns= vectorizer.get_feature_names_out())"
   ]
  },
  {
   "cell_type": "markdown",
   "id": "0c3f82d7",
   "metadata": {},
   "source": [
    "### 2.3 Multinomial NB Model"
   ]
  },
  {
   "cell_type": "code",
   "execution_count": 11,
   "id": "9d77b826",
   "metadata": {},
   "outputs": [],
   "source": [
    "# Prepare the Multinomial Naive Bayes model\n",
    "clf = MultinomialNB()\n",
    "\n",
    "# Fit the model\n",
    "clf.fit(training_data.values, train_label.values)\n",
    "y_pred  = clf.predict(testing_data.values)"
   ]
  },
  {
   "cell_type": "code",
   "execution_count": 12,
   "id": "235c0290",
   "metadata": {},
   "outputs": [
    {
     "data": {
      "text/plain": [
       " 0    595\n",
       " 1    103\n",
       "-1      2\n",
       "dtype: int64"
      ]
     },
     "execution_count": 12,
     "metadata": {},
     "output_type": "execute_result"
    }
   ],
   "source": [
    "# Check the results of the prediction\n",
    "pd.Series(y_pred).value_counts()"
   ]
  },
  {
   "cell_type": "code",
   "execution_count": 13,
   "id": "0ee3a5ea",
   "metadata": {},
   "outputs": [
    {
     "data": {
      "text/plain": [
       " 0    425\n",
       " 1    178\n",
       "-1     97\n",
       "Name: Sentiment, dtype: int64"
      ]
     },
     "execution_count": 13,
     "metadata": {},
     "output_type": "execute_result"
    }
   ],
   "source": [
    "# Check the results of the test\n",
    "test_label.value_counts()"
   ]
  },
  {
   "cell_type": "code",
   "execution_count": 14,
   "id": "6b5f8e71",
   "metadata": {},
   "outputs": [
    {
     "name": "stdout",
     "output_type": "stream",
     "text": [
      "              precision    recall  f1-score   support\n",
      "\n",
      "          -1       1.00      0.02      0.04        97\n",
      "           0       0.69      0.96      0.80       425\n",
      "           1       0.49      0.28      0.36       178\n",
      "\n",
      "    accuracy                           0.66       700\n",
      "   macro avg       0.72      0.42      0.40       700\n",
      "weighted avg       0.68      0.66      0.58       700\n",
      "\n"
     ]
    }
   ],
   "source": [
    "# Classification report for the test data\n",
    "print(classification_report(test_label , y_pred))"
   ]
  },
  {
   "cell_type": "code",
   "execution_count": 15,
   "id": "309ca0a6",
   "metadata": {},
   "outputs": [
    {
     "name": "stdout",
     "output_type": "stream",
     "text": [
      "              precision    recall  f1-score   support\n",
      "\n",
      "          -1       0.90      0.05      0.10       329\n",
      "           0       0.78      0.99      0.87      1677\n",
      "           1       0.82      0.66      0.73       794\n",
      "\n",
      "    accuracy                           0.79      2800\n",
      "   macro avg       0.83      0.57      0.57      2800\n",
      "weighted avg       0.80      0.79      0.74      2800\n",
      "\n"
     ]
    }
   ],
   "source": [
    "# Classification report for the training data\n",
    "y_pred_train = clf.predict(training_data.values)\n",
    "print(classification_report(train_label.values , y_pred_train))"
   ]
  },
  {
   "cell_type": "code",
   "execution_count": 16,
   "id": "edbea398",
   "metadata": {},
   "outputs": [
    {
     "data": {
      "text/plain": [
       "0.7875"
      ]
     },
     "execution_count": 16,
     "metadata": {},
     "output_type": "execute_result"
    }
   ],
   "source": [
    "# Accuracy score for the training data\n",
    "accuracy_score(train_label , y_pred_train)"
   ]
  },
  {
   "cell_type": "code",
   "execution_count": 17,
   "id": "096c7c43",
   "metadata": {},
   "outputs": [
    {
     "data": {
      "text/plain": [
       "0.66"
      ]
     },
     "execution_count": 17,
     "metadata": {},
     "output_type": "execute_result"
    }
   ],
   "source": [
    "# Accuracy score for the test data\n",
    "accuracy_score(test_label , y_pred)"
   ]
  },
  {
   "cell_type": "code",
   "execution_count": 18,
   "id": "cb9a922f",
   "metadata": {},
   "outputs": [],
   "source": [
    "# Save the model\n",
    "joblib.dump(clf , 'Models/multinomial-NB-model.pkl')\n",
    "\n",
    "# Save the vectorizer\n",
    "joblib.dump(vectorizer, open(\"Models/multinomial-NB-vector.pkl\", \"wb\"))"
   ]
  },
  {
   "cell_type": "markdown",
   "id": "e9090de2",
   "metadata": {},
   "source": [
    "### 2.3 Testing the Model"
   ]
  },
  {
   "cell_type": "code",
   "execution_count": 19,
   "id": "5d65d4b4",
   "metadata": {},
   "outputs": [],
   "source": [
    "# create the values for the text cleaning\n",
    "ps = WordNetLemmatizer()\n",
    "stopwords = stopwords.words(\"english\")\n",
    "# nltk.download(\"wordnet\")\n",
    "\n",
    "# Define a funtion to clean the text\n",
    "def cleaning_data(row):\n",
    "    \n",
    "    # convert text to into lower case\n",
    "    row = row.lower() \n",
    "    \n",
    "    # this line of code only take words from text and remove number and special character using RegX\n",
    "    row = re.sub('[^a-zA-Z]' , ' ' , row)\n",
    "    \n",
    "    # split the data and make token.\n",
    "    token = row.split() \n",
    "    \n",
    "    # lemmatise the word and remove stop words like a, an , the , is ,are ...\n",
    "    news = [ps.lemmatize(word) for word in token if not word in stopwords]  \n",
    "    \n",
    "    # finaly join all the token with space\n",
    "    cleaned_news = ' '.join(news) \n",
    "    \n",
    "    # return cleanned data\n",
    "    return cleaned_news"
   ]
  },
  {
   "cell_type": "code",
   "execution_count": 20,
   "id": "f7e1c4cd",
   "metadata": {},
   "outputs": [
    {
     "name": "stdout",
     "output_type": "stream",
     "text": [
      "The model says...\n",
      "Your article is positive\n"
     ]
    }
   ],
   "source": [
    "# Run a single prediction with the model using a positive title from the dataset\n",
    "positive = cleaning_data(str(\"commission income rose eur mn eur mn\"))\n",
    "\n",
    "single_prediction = clf.predict(vectorizer.transform([positive]).toarray())\n",
    "\n",
    "print(\"The model says...\")\n",
    "\n",
    "if single_prediction == 0:\n",
    "    print(\"Your article is neutral\")\n",
    "elif single_prediction == 1:\n",
    "    print(\"Your article is positive\")\n",
    "else:\n",
    "    print(\"Your article is negative\")"
   ]
  },
  {
   "cell_type": "code",
   "execution_count": 21,
   "id": "e53aa9b6",
   "metadata": {},
   "outputs": [
    {
     "name": "stdout",
     "output_type": "stream",
     "text": [
      "The model says...\n",
      "Your article is negative\n"
     ]
    }
   ],
   "source": [
    "# Run a single prediction with the model using a negative title from the dataset\n",
    "negative = cleaning_data(str(\"operating loss non recurring item eur mn compared profit eur mn\"))\n",
    "\n",
    "single_prediction = clf.predict(vectorizer.transform([negative]).toarray())\n",
    "\n",
    "print(\"The model says...\")\n",
    "\n",
    "if single_prediction == 0:\n",
    "    print(\"Your article is neutral\")\n",
    "elif single_prediction == 1:\n",
    "    print(\"Your article is positive\")\n",
    "else:\n",
    "    print(\"Your article is negative\")"
   ]
  },
  {
   "cell_type": "code",
   "execution_count": 22,
   "id": "d62f1273",
   "metadata": {},
   "outputs": [
    {
     "name": "stdout",
     "output_type": "stream",
     "text": [
      "The model says...\n",
      "Your article is neutral\n"
     ]
    }
   ],
   "source": [
    "# Run a single prediction with the model using a neutral title from the dataset\n",
    "neutral = cleaning_data(str(\"also technopolis plan build million euro technology park special economic zone neudorf st petersburg st petersburg government said february\"))\n",
    "\n",
    "single_prediction = clf.predict(vectorizer.transform([neutral]).toarray())\n",
    "\n",
    "print(\"The model says...\")\n",
    "\n",
    "if single_prediction == 0:\n",
    "    print(\"Your article is neutral\")\n",
    "elif single_prediction == 1:\n",
    "    print(\"Your article is positive\")\n",
    "else:\n",
    "    print(\"Your article is negative\")"
   ]
  }
 ],
 "metadata": {
  "kernelspec": {
   "display_name": "Python 3 (ipykernel)",
   "language": "python",
   "name": "python3"
  },
  "language_info": {
   "codemirror_mode": {
    "name": "ipython",
    "version": 3
   },
   "file_extension": ".py",
   "mimetype": "text/x-python",
   "name": "python",
   "nbconvert_exporter": "python",
   "pygments_lexer": "ipython3",
   "version": "3.9.12"
  }
 },
 "nbformat": 4,
 "nbformat_minor": 5
}
